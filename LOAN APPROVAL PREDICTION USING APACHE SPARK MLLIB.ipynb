{
 "cells": [
  {
   "cell_type": "markdown",
   "id": "41d5b61b",
   "metadata": {},
   "source": [
    "\n",
    "# Loan Prediction Analysis with PySpark\n",
    "\n",
    "This notebook performs data preprocessing and analysis on a loan prediction dataset using PySpark. \n",
    "We'll follow these steps:\n",
    "\n",
    "1. Set up the environment and import required libraries.\n",
    "2. Load and inspect the dataset.\n",
    "3. Perform data cleaning and feature engineering.\n",
    "4. Build and evaluate predictive models.\n",
    "\n",
    "Let's start by setting up our environment and importing the necessary libraries.\n"
   ]
  },
  {
   "cell_type": "code",
   "execution_count": 1,
   "metadata": {
    "colab": {
     "base_uri": "https://localhost:8080/"
    },
    "executionInfo": {
     "elapsed": 50555,
     "status": "ok",
     "timestamp": 1731461788159,
     "user": {
      "displayName": "Oukaya Mouad",
      "userId": "13182157860183505427"
     },
     "user_tz": 0
    },
    "id": "2zVWn8dyKVMZ",
    "outputId": "145d1949-20ee-48ac-ac27-789e16ffa187"
   },
   "outputs": [
    {
     "name": "stdout",
     "output_type": "stream",
     "text": [
      "Collecting pyspark==3.2\n",
      "  Downloading pyspark-3.2.0.tar.gz (281.3 MB)\n",
      "\u001b[2K     \u001b[90m━━━━━━━━━━━━━━━━━━━━━━━━━━━━━━━━━━━━━━━━\u001b[0m \u001b[32m281.3/281.3 MB\u001b[0m \u001b[31m6.3 MB/s\u001b[0m eta \u001b[36m0:00:00\u001b[0m\n",
      "\u001b[?25h  Preparing metadata (setup.py) ... \u001b[?25l\u001b[?25hdone\n",
      "Collecting py4j==0.10.9.2 (from pyspark==3.2)\n",
      "  Downloading py4j-0.10.9.2-py2.py3-none-any.whl.metadata (1.3 kB)\n",
      "Downloading py4j-0.10.9.2-py2.py3-none-any.whl (198 kB)\n",
      "\u001b[2K   \u001b[90m━━━━━━━━━━━━━━━━━━━━━━━━━━━━━━━━━━━━━━━━\u001b[0m \u001b[32m198.8/198.8 kB\u001b[0m \u001b[31m14.9 MB/s\u001b[0m eta \u001b[36m0:00:00\u001b[0m\n",
      "\u001b[?25hBuilding wheels for collected packages: pyspark\n",
      "  Building wheel for pyspark (setup.py) ... \u001b[?25l\u001b[?25hdone\n",
      "  Created wheel for pyspark: filename=pyspark-3.2.0-py2.py3-none-any.whl size=281805891 sha256=254ee9c23679c92045aedeccbed922bc87f0b3623fb8c048cc34a7336f32ea1e\n",
      "  Stored in directory: /root/.cache/pip/wheels/32/97/d3/8b6d964c8700e4fbb561c71638a92ec55dac9be51eb5fea86d\n",
      "Successfully built pyspark\n",
      "Installing collected packages: py4j, pyspark\n",
      "  Attempting uninstall: py4j\n",
      "    Found existing installation: py4j 0.10.9.7\n",
      "    Uninstalling py4j-0.10.9.7:\n",
      "      Successfully uninstalled py4j-0.10.9.7\n",
      "  Attempting uninstall: pyspark\n",
      "    Found existing installation: pyspark 3.5.3\n",
      "    Uninstalling pyspark-3.5.3:\n",
      "      Successfully uninstalled pyspark-3.5.3\n",
      "Successfully installed py4j-0.10.9.2 pyspark-3.2.0\n"
     ]
    }
   ],
   "source": [
    "\n",
    "# Install PySpark library version 3.2 for compatibility\n",
    "!pip install pyspark==3.2\n",
    "\n",
    "# Import PySpark, SparkSession for data processing, and other libraries for visualization\n",
    "from pyspark.sql import SparkSession\n",
    "from pyspark.sql.functions import when, col\n",
    "import matplotlib.pyplot as plt\n",
    "import seaborn as sns\n",
    "import pandas as pd\n"
   ]
  },
  {
   "cell_type": "markdown",
   "id": "847e8a0b",
   "metadata": {},
   "source": [
    "\n",
    "## Load and Preview the Dataset\n",
    "\n",
    "In this step, we initialize a Spark session, load the loan dataset, and display the first few rows to understand its structure.\n"
   ]
  },
  {
   "cell_type": "code",
   "execution_count": 37,
   "metadata": {
    "colab": {
     "base_uri": "https://localhost:8080/"
    },
    "executionInfo": {
     "elapsed": 691,
     "status": "ok",
     "timestamp": 1731462534978,
     "user": {
      "displayName": "Oukaya Mouad",
      "userId": "13182157860183505427"
     },
     "user_tz": 0
    },
    "id": "VELKiWnHGTRp",
    "outputId": "c0f73c3a-89d9-490d-e78f-4b2d0d14e60a"
   },
   "outputs": [
    {
     "name": "stdout",
     "output_type": "stream",
     "text": [
      "+--------+------+-------+----------+------------+-------------+---------------+-----------------+----------+----------------+--------------+-------------+-----------+\n",
      "| Loan_ID|Gender|Married|Dependents|   Education|Self_Employed|ApplicantIncome|CoapplicantIncome|LoanAmount|Loan_Amount_Term|Credit_History|Property_Area|Loan_Status|\n",
      "+--------+------+-------+----------+------------+-------------+---------------+-----------------+----------+----------------+--------------+-------------+-----------+\n",
      "|LP001002|  Male|     No|         0|    Graduate|           No|           5849|              0.0|      null|             360|             1|        Urban|          Y|\n",
      "|LP001003|  Male|    Yes|         1|    Graduate|           No|           4583|           1508.0|       128|             360|             1|        Rural|          N|\n",
      "|LP001005|  Male|    Yes|         0|    Graduate|          Yes|           3000|              0.0|        66|             360|             1|        Urban|          Y|\n",
      "|LP001006|  Male|    Yes|         0|Not Graduate|           No|           2583|           2358.0|       120|             360|             1|        Urban|          Y|\n",
      "|LP001008|  Male|     No|         0|    Graduate|           No|           6000|              0.0|       141|             360|             1|        Urban|          Y|\n",
      "+--------+------+-------+----------+------------+-------------+---------------+-----------------+----------+----------------+--------------+-------------+-----------+\n",
      "only showing top 5 rows\n",
      "\n"
     ]
    }
   ],
   "source": [
    "\n",
    "from pyspark.ml.feature import StringIndexer, VectorAssembler\n",
    "from pyspark.ml.classification import LogisticRegression, DecisionTreeClassifier\n",
    "from pyspark.sql import SparkSession\n",
    "from pyspark.sql.functions import col\n",
    "from pyspark.ml.evaluation import MulticlassClassificationEvaluator\n",
    "\n",
    "# Initialize Spark Session\n",
    "spark = SparkSession.builder.appName(\"LoanPredictionPartB\").getOrCreate()\n",
    "\n",
    "# Load the loan dataset\n",
    "loan_data = spark.read.csv('/content/train_loan.csv', header=True, inferSchema=True)\n",
    "\n",
    "# Display the first 5 rows of the dataset to understand its structure\n",
    "loan_data.show(5)\n"
   ]
  },
  {
   "cell_type": "markdown",
   "id": "35e7f7a5",
   "metadata": {},
   "source": [
    "\n",
    "## Inspect Dataset Schema and Summary Statistics\n",
    "\n",
    "Checking the schema reveals data types of each column and helps identify potential null values.\n",
    "Summary statistics give insights into numeric columns and help detect any unusual distributions or outliers.\n"
   ]
  },
  {
   "cell_type": "code",
   "execution_count": 38,
   "metadata": {
    "colab": {
     "base_uri": "https://localhost:8080/"
    },
    "executionInfo": {
     "elapsed": 750,
     "status": "ok",
     "timestamp": 1731462539974,
     "user": {
      "displayName": "Oukaya Mouad",
      "userId": "13182157860183505427"
     },
     "user_tz": 0
    },
    "id": "pv6POfD0LGta",
    "outputId": "b2b12630-ccd3-45a5-a806-56040aab493f"
   },
   "outputs": [
    {
     "name": "stdout",
     "output_type": "stream",
     "text": [
      "root\n",
      " |-- Loan_ID: string (nullable = true)\n",
      " |-- Gender: string (nullable = true)\n",
      " |-- Married: string (nullable = true)\n",
      " |-- Dependents: string (nullable = true)\n",
      " |-- Education: string (nullable = true)\n",
      " |-- Self_Employed: string (nullable = true)\n",
      " |-- ApplicantIncome: integer (nullable = true)\n",
      " |-- CoapplicantIncome: double (nullable = true)\n",
      " |-- LoanAmount: integer (nullable = true)\n",
      " |-- Loan_Amount_Term: integer (nullable = true)\n",
      " |-- Credit_History: integer (nullable = true)\n",
      " |-- Property_Area: string (nullable = true)\n",
      " |-- Loan_Status: string (nullable = true)\n",
      "\n",
      "+-------+--------+------+-------+------------------+------------+-------------+-----------------+------------------+------------------+-----------------+------------------+-------------+-----------+\n",
      "|summary| Loan_ID|Gender|Married|        Dependents|   Education|Self_Employed|  ApplicantIncome| CoapplicantIncome|        LoanAmount| Loan_Amount_Term|    Credit_History|Property_Area|Loan_Status|\n",
      "+-------+--------+------+-------+------------------+------------+-------------+-----------------+------------------+------------------+-----------------+------------------+-------------+-----------+\n",
      "|  count|     614|   601|    611|               599|         614|          582|              614|               614|               592|              600|               564|          614|        614|\n",
      "|   mean|    null|  null|   null|0.5547445255474452|        null|         null|5403.459283387622| 1621.245798027101|146.41216216216216|            342.0|0.8421985815602837|         null|       null|\n",
      "| stddev|    null|  null|   null|0.7853289861674311|        null|         null|6109.041673387181|2926.2483692241894| 85.58732523570545|65.12040985461255|0.3648783192364052|         null|       null|\n",
      "|    min|LP001002|Female|     No|                 0|    Graduate|           No|              150|               0.0|                 9|               12|                 0|        Rural|          N|\n",
      "|    max|LP002990|  Male|    Yes|                3+|Not Graduate|          Yes|            81000|           41667.0|               700|              480|                 1|        Urban|          Y|\n",
      "+-------+--------+------+-------+------------------+------------+-------------+-----------------+------------------+------------------+-----------------+------------------+-------------+-----------+\n",
      "\n"
     ]
    }
   ],
   "source": [
    "\n",
    "# Display the schema of the dataset\n",
    "loan_data.printSchema()\n",
    "\n",
    "# Show basic summary statistics for each column in the dataset\n",
    "loan_data.describe().show()\n"
   ]
  },
  {
   "cell_type": "code",
   "execution_count": 39,
   "metadata": {
    "executionInfo": {
     "elapsed": 459,
     "status": "ok",
     "timestamp": 1731462544934,
     "user": {
      "displayName": "Oukaya Mouad",
      "userId": "13182157860183505427"
     },
     "user_tz": 0
    },
    "id": "ghAx_r8lLHAR"
   },
   "outputs": [],
   "source": [
    "\n",
    "\n",
    "\n",
    "# Fill missing values for numeric and categorical columns\n",
    "loan_data = loan_data.fillna({\n",
    "    'LoanAmount': loan_data.approxQuantile(\"LoanAmount\", [0.5], 0.01)[0],  # Median approximation\n",
    "    'Loan_Amount_Term': loan_data.approxQuantile(\"Loan_Amount_Term\", [0.5], 0.01)[0],  # Median for Loan Term\n",
    "    'Credit_History': 1.0,  # Default value assuming credit history exists\n",
    "    'Gender': 'Male',\n",
    "    'Married': 'No',\n",
    "    'Dependents': '0',\n",
    "    'Self_Employed': 'No',\n",
    "    'Property_Area': 'Urban'\n",
    "})\n"
   ]
  },
  {
   "cell_type": "code",
   "execution_count": 40,
   "metadata": {
    "executionInfo": {
     "elapsed": 3116,
     "status": "ok",
     "timestamp": 1731462549775,
     "user": {
      "displayName": "Oukaya Mouad",
      "userId": "13182157860183505427"
     },
     "user_tz": 0
    },
    "id": "qTBdVzvnLHPh"
   },
   "outputs": [],
   "source": [
    "from pyspark.ml.feature import StringIndexer\n",
    "\n",
    "# Encode categorical columns\n",
    "indexers = [StringIndexer(inputCol=column, outputCol=column + \"_index\").fit(loan_data)\n",
    "            for column in ['Gender', 'Married', 'Education', 'Self_Employed', 'Property_Area', 'Dependents']]\n",
    "\n",
    "for indexer in indexers:\n",
    "    loan_data = indexer.transform(loan_data)\n",
    "\n",
    "loan_data = StringIndexer(inputCol=\"Loan_Status\", outputCol=\"label\", handleInvalid=\"keep\").fit(loan_data).transform(loan_data)"
   ]
  },
  {
   "cell_type": "code",
   "execution_count": 41,
   "metadata": {
    "executionInfo": {
     "elapsed": 222,
     "status": "ok",
     "timestamp": 1731462551217,
     "user": {
      "displayName": "Oukaya Mouad",
      "userId": "13182157860183505427"
     },
     "user_tz": 0
    },
    "id": "H6HsczHfLHdB"
   },
   "outputs": [],
   "source": [
    "from pyspark.ml.feature import VectorAssembler\n",
    "\n",
    "assembler = VectorAssembler(\n",
    "    inputCols=['Gender_index', 'Married_index', 'Dependents_index',\n",
    "               'Education_index', 'Self_Employed_index', 'ApplicantIncome',\n",
    "               'CoapplicantIncome', 'LoanAmount', 'Loan_Amount_Term',\n",
    "               'Credit_History', 'Property_Area_index'],\n",
    "    outputCol=\"features\")\n",
    "loan_data = assembler.transform(loan_data)\n"
   ]
  },
  {
   "cell_type": "code",
   "execution_count": 42,
   "metadata": {
    "colab": {
     "base_uri": "https://localhost:8080/"
    },
    "executionInfo": {
     "elapsed": 5486,
     "status": "ok",
     "timestamp": 1731462558544,
     "user": {
      "displayName": "Oukaya Mouad",
      "userId": "13182157860183505427"
     },
     "user_tz": 0
    },
    "id": "M8i2q_buLvhk",
    "outputId": "d79892c7-a53d-4e3a-c87c-fb127c117298"
   },
   "outputs": [
    {
     "name": "stdout",
     "output_type": "stream",
     "text": [
      "+-----------+----------+--------------------+\n",
      "|Loan_Status|prediction|         probability|\n",
      "+-----------+----------+--------------------+\n",
      "|          Y|       0.0|[0.76496664911964...|\n",
      "|          N|       0.0|[0.77347220345124...|\n",
      "|          Y|       0.0|[0.85301936354785...|\n",
      "|          Y|       0.0|[0.76375058039960...|\n",
      "|          Y|       0.0|[0.76039582811522...|\n",
      "+-----------+----------+--------------------+\n",
      "only showing top 5 rows\n",
      "\n"
     ]
    }
   ],
   "source": [
    "from pyspark.ml.classification import LogisticRegression\n",
    "\n",
    "# Initialize and train logistic regression model\n",
    "lr = LogisticRegression(labelCol=\"label\", featuresCol=\"features\")\n",
    "lr_model = lr.fit(loan_data)\n",
    "lr_predictions = lr_model.transform(loan_data)\n",
    "# Make predictions\n",
    "lr_predictions = lr_model.transform(loan_data)\n",
    "lr_predictions.select(\"Loan_Status\", \"prediction\", \"probability\").show(5)\n"
   ]
  },
  {
   "cell_type": "code",
   "execution_count": 47,
   "metadata": {
    "colab": {
     "base_uri": "https://localhost:8080/"
    },
    "executionInfo": {
     "elapsed": 1657,
     "status": "ok",
     "timestamp": 1731462850656,
     "user": {
      "displayName": "Oukaya Mouad",
      "userId": "13182157860183505427"
     },
     "user_tz": 0
    },
    "id": "F2wEOyoRLv6U",
    "outputId": "36527956-6c3d-4579-8e82-27809342dd1e"
   },
   "outputs": [
    {
     "name": "stdout",
     "output_type": "stream",
     "text": [
      "Logistic Regression - Accuracy: 0.8127035830618893, Precision: 0.8340185110571443, Recall: 0.8127035830618892\n"
     ]
    }
   ],
   "source": [
    "from pyspark.ml.evaluation import MulticlassClassificationEvaluator\n",
    "\n",
    "# Initialize evaluator\n",
    "evaluator = MulticlassClassificationEvaluator(labelCol=\"label\", predictionCol=\"prediction\")\n",
    "\n",
    "# Calculate metrics\n",
    "accuracy_lr = evaluator.evaluate(lr_predictions, {evaluator.metricName: \"accuracy\"})\n",
    "precision_lr = evaluator.evaluate(lr_predictions, {evaluator.metricName: \"weightedPrecision\"})\n",
    "recall_lr = evaluator.evaluate(lr_predictions, {evaluator.metricName: \"weightedRecall\"})\n",
    "\n",
    "print(f\"Logistic Regression - Accuracy: {accuracy_lr}, Precision: {precision_lr}, Recall: {recall_lr}\")\n"
   ]
  },
  {
   "cell_type": "code",
   "execution_count": 49,
   "metadata": {
    "colab": {
     "base_uri": "https://localhost:8080/"
    },
    "executionInfo": {
     "elapsed": 2733,
     "status": "ok",
     "timestamp": 1731462863351,
     "user": {
      "displayName": "Oukaya Mouad",
      "userId": "13182157860183505427"
     },
     "user_tz": 0
    },
    "id": "mPvazfqwLwM0",
    "outputId": "b04c8a52-b10a-4f16-95b9-b4fbe61eea2c"
   },
   "outputs": [
    {
     "name": "stdout",
     "output_type": "stream",
     "text": [
      "+-----------+----------+--------------------+\n",
      "|Loan_Status|prediction|         probability|\n",
      "+-----------+----------+--------------------+\n",
      "|          Y|       0.0|[0.75268817204301...|\n",
      "|          N|       0.0|     [0.79,0.21,0.0]|\n",
      "|          Y|       0.0|     [0.79,0.21,0.0]|\n",
      "|          Y|       0.0|     [0.79,0.21,0.0]|\n",
      "|          Y|       0.0|[0.75268817204301...|\n",
      "+-----------+----------+--------------------+\n",
      "only showing top 5 rows\n",
      "\n"
     ]
    }
   ],
   "source": [
    "from pyspark.ml.classification import DecisionTreeClassifier\n",
    "\n",
    "# Initialize and train decision tree model\n",
    "dt = DecisionTreeClassifier(labelCol=\"label\", featuresCol=\"features\")\n",
    "dt_model = dt.fit(loan_data)\n",
    "\n",
    "# Make predictions\n",
    "dt_predictions = dt_model.transform(loan_data)\n",
    "dt_predictions.select(\"Loan_Status\", \"prediction\", \"probability\").show(5)\n"
   ]
  },
  {
   "cell_type": "code",
   "execution_count": 50,
   "metadata": {
    "colab": {
     "base_uri": "https://localhost:8080/"
    },
    "executionInfo": {
     "elapsed": 1469,
     "status": "ok",
     "timestamp": 1731462869524,
     "user": {
      "displayName": "Oukaya Mouad",
      "userId": "13182157860183505427"
     },
     "user_tz": 0
    },
    "id": "8ss4H8wgL84z",
    "outputId": "6564a351-b0a4-49cb-b400-afe711415c64"
   },
   "outputs": [
    {
     "name": "stdout",
     "output_type": "stream",
     "text": [
      "Decision Tree - Accuracy: 0.8338762214983714, Precision: 0.8433704783130465, Recall: 0.8338762214983713\n"
     ]
    }
   ],
   "source": [
    "# Calculate metrics for decision tree\n",
    "accuracy_dt = evaluator.evaluate(dt_predictions, {evaluator.metricName: \"accuracy\"})\n",
    "precision_dt = evaluator.evaluate(dt_predictions, {evaluator.metricName: \"weightedPrecision\"})\n",
    "recall_dt = evaluator.evaluate(dt_predictions, {evaluator.metricName: \"weightedRecall\"})\n",
    "\n",
    "print(f\"Decision Tree - Accuracy: {accuracy_dt}, Precision: {precision_dt}, Recall: {recall_dt}\")\n"
   ]
  },
  {
   "cell_type": "code",
   "execution_count": 52,
   "metadata": {
    "colab": {
     "base_uri": "https://localhost:8080/",
     "height": 803
    },
    "executionInfo": {
     "elapsed": 2473,
     "status": "ok",
     "timestamp": 1731462938402,
     "user": {
      "displayName": "Oukaya Mouad",
      "userId": "13182157860183505427"
     },
     "user_tz": 0
    },
    "id": "6YFkjjlaL9Iy",
    "outputId": "d33fa019-bd6c-41ac-98a2-26814c437c61"
   },
   "outputs": [
    {
     "data": {
      "image/png": "[encoded data removed]",
      "text/plain": [
       "<Figure size 600x400 with 1 Axes>"
      ]
     },
     "metadata": {},
     "output_type": "display_data"
    },
    {
     "data": {
      "image/png": "[encoded data removed]",
      "text/plain": [
       "<Figure size 600x400 with 1 Axes>"
      ]
     },
     "metadata": {},
     "output_type": "display_data"
    }
   ],
   "source": [
    "from sklearn.metrics import confusion_matrix\n",
    "import matplotlib.pyplot as plt\n",
    "import seaborn as sns\n",
    "\n",
    "# Map 'Loan_Status' values ('N' and 'Y') to match 'label' values (0 and 1)\n",
    "lr_pd = lr_predictions.select(\"label\", \"prediction\").toPandas()\n",
    "dt_pd = dt_predictions.select(\"label\", \"prediction\").toPandas()\n",
    "\n",
    "# Confusion Matrix for Logistic Regression\n",
    "cm_lr = confusion_matrix(lr_pd['label'], lr_pd['prediction'])\n",
    "plt.figure(figsize=(6, 4))\n",
    "sns.heatmap(cm_lr, annot=True, fmt=\"d\", cmap=\"Blues\", cbar=False)\n",
    "plt.title(\"Logistic Regression Confusion Matrix\")\n",
    "plt.xlabel(\"Predicted\")\n",
    "plt.ylabel(\"Actual\")\n",
    "plt.show()\n",
    "\n",
    "# Confusion Matrix for Decision Tree\n",
    "cm_dt = confusion_matrix(dt_pd['label'], dt_pd['prediction'])\n",
    "plt.figure(figsize=(6, 4))\n",
    "sns.heatmap(cm_dt, annot=True, fmt=\"d\", cmap=\"Greens\", cbar=False)\n",
    "plt.title(\"Decision Tree Confusion Matrix\")\n",
    "plt.xlabel(\"Predicted\")\n",
    "plt.ylabel(\"Actual\")\n",
    "plt.show()\n"
   ]
  }
 ],
 "metadata": {
  "colab": {
   "authorship_tag": "ABX9TyMuV2X2sFv/Seg67WjhwOMo",
   "provenance": []
  },
  "kernelspec": {
   "display_name": "Python 3",
   "name": "python3"
  },
  "language_info": {
   "name": "python"
  }
 },
 "nbformat": 4,
 "nbformat_minor": 0
}
